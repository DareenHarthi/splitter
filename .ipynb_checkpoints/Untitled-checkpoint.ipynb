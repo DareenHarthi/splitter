{
 "cells": [
  {
   "cell_type": "code",
   "execution_count": 7,
   "id": "3cc34140",
   "metadata": {},
   "outputs": [],
   "source": [
    "import split"
   ]
  },
  {
   "cell_type": "code",
   "execution_count": 6,
   "id": "9daa1ab8",
   "metadata": {},
   "outputs": [
    {
     "name": "stdout",
     "output_type": "stream",
     "text": [
      "Collecting moviepy\n",
      "  Using cached moviepy-1.0.3-py3-none-any.whl\n",
      "Collecting decorator<5.0,>=4.0.2\n",
      "  Using cached decorator-4.4.2-py2.py3-none-any.whl (9.2 kB)\n",
      "Collecting proglog<=1.0.0\n",
      "  Using cached proglog-0.1.9-py3-none-any.whl\n",
      "Requirement already satisfied: numpy>=1.17.3 in /home/lambda/anaconda3/envs/splitter/lib/python3.7/site-packages (from moviepy) (1.21.5)\n",
      "Collecting imageio<3.0,>=2.5\n",
      "  Downloading imageio-2.14.1-py3-none-any.whl (3.3 MB)\n",
      "\u001b[K     |████████████████████████████████| 3.3 MB 772 kB/s eta 0:00:01\n",
      "\u001b[?25hCollecting imageio-ffmpeg>=0.2.0\n",
      "  Using cached imageio_ffmpeg-0.4.5-py3-none-manylinux2010_x86_64.whl (26.9 MB)\n",
      "Requirement already satisfied: requests<3.0,>=2.8.1 in /home/lambda/anaconda3/envs/splitter/lib/python3.7/site-packages (from moviepy) (2.27.1)\n",
      "Collecting tqdm<5.0,>=4.11.2\n",
      "  Using cached tqdm-4.62.3-py2.py3-none-any.whl (76 kB)\n",
      "Collecting pillow>=8.3.2\n",
      "  Downloading Pillow-9.0.0-cp37-cp37m-manylinux_2_17_x86_64.manylinux2014_x86_64.whl (4.3 MB)\n",
      "\u001b[K     |████████████████████████████████| 4.3 MB 68.1 MB/s eta 0:00:01\n",
      "\u001b[?25hRequirement already satisfied: idna<4,>=2.5 in /home/lambda/anaconda3/envs/splitter/lib/python3.7/site-packages (from requests<3.0,>=2.8.1->moviepy) (3.3)\n",
      "Requirement already satisfied: certifi>=2017.4.17 in /home/lambda/anaconda3/envs/splitter/lib/python3.7/site-packages (from requests<3.0,>=2.8.1->moviepy) (2021.10.8)\n",
      "Requirement already satisfied: charset-normalizer~=2.0.0 in /home/lambda/anaconda3/envs/splitter/lib/python3.7/site-packages (from requests<3.0,>=2.8.1->moviepy) (2.0.10)\n",
      "Requirement already satisfied: urllib3<1.27,>=1.21.1 in /home/lambda/anaconda3/envs/splitter/lib/python3.7/site-packages (from requests<3.0,>=2.8.1->moviepy) (1.26.8)\n",
      "Installing collected packages: tqdm, pillow, proglog, imageio-ffmpeg, imageio, decorator, moviepy\n",
      "  Attempting uninstall: decorator\n",
      "    Found existing installation: decorator 5.1.0\n",
      "    Uninstalling decorator-5.1.0:\n",
      "      Successfully uninstalled decorator-5.1.0\n",
      "Successfully installed decorator-4.4.2 imageio-2.14.1 imageio-ffmpeg-0.4.5 moviepy-1.0.3 pillow-9.0.0 proglog-0.1.9 tqdm-4.62.3\n",
      "Note: you may need to restart the kernel to use updated packages.\n"
     ]
    }
   ],
   "source": [
    "path = '../wav2lip-hq/videos/mbs-for-wavLips.mp4' \n",
    "# min_time in seconds\n",
    "split.split(path, min_tim=6)"
   ]
  },
  {
   "cell_type": "code",
   "execution_count": null,
   "id": "ed1a2d99",
   "metadata": {},
   "outputs": [],
   "source": []
  }
 ],
 "metadata": {
  "kernelspec": {
   "display_name": "Python 3 (ipykernel)",
   "language": "python",
   "name": "python3"
  },
  "language_info": {
   "codemirror_mode": {
    "name": "ipython",
    "version": 3
   },
   "file_extension": ".py",
   "mimetype": "text/x-python",
   "name": "python",
   "nbconvert_exporter": "python",
   "pygments_lexer": "ipython3",
   "version": "3.7.11"
  }
 },
 "nbformat": 4,
 "nbformat_minor": 5
}
