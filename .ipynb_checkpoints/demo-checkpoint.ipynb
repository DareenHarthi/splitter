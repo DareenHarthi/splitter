{
 "cells": [
  {
   "cell_type": "code",
   "execution_count": 1,
   "id": "cbf9a3da",
   "metadata": {},
   "outputs": [],
   "source": [
    "from splitter import split"
   ]
  },
  {
   "cell_type": "code",
   "execution_count": 3,
   "id": "1a87548d",
   "metadata": {},
   "outputs": [
    {
     "name": "stderr",
     "output_type": "stream",
     "text": [
      "100%|█████████████████████████████████████████| 57/57 [00:00<00:00, 1117.94it/s]"
     ]
    },
    {
     "name": "stdout",
     "output_type": "stream",
     "text": [
      "Done!!!!!\n"
     ]
    },
    {
     "name": "stderr",
     "output_type": "stream",
     "text": [
      "\n"
     ]
    }
   ],
   "source": [
    "path = 'audio/audio.wav' \n",
    "\n",
    "# min time in seconds \n",
    "split.split(path, min_time=4)"
   ]
  }
 ],
 "metadata": {
  "kernelspec": {
   "display_name": "Python 3 (ipykernel)",
   "language": "python",
   "name": "python3"
  },
  "language_info": {
   "codemirror_mode": {
    "name": "ipython",
    "version": 3
   },
   "file_extension": ".py",
   "mimetype": "text/x-python",
   "name": "python",
   "nbconvert_exporter": "python",
   "pygments_lexer": "ipython3",
   "version": "3.7.11"
  }
 },
 "nbformat": 4,
 "nbformat_minor": 5
}
